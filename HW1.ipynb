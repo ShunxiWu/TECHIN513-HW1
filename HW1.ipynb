{
 "cells": [
  {
   "cell_type": "code",
   "execution_count": 5,
   "metadata": {},
   "outputs": [],
   "source": [
    "# !pip install simpleaudio\n",
    "import numpy as np\n",
    "from scipy.io import wavfile as wav\n",
    "import simpleaudio as sa\n",
    "import matplotlib.pyplot as plt"
   ]
  },
  {
   "cell_type": "markdown",
   "metadata": {},
   "source": [
    "Assignment 1: Working With Sound Files\n",
    "\n",
    "A. Download the train.wav sound file provided. Using the scipy.io wavfile package (see Background document), read in the file using the saving the audio vector and sampling frequency in variables x1 and fs1, respectively. Print the sampling rate (which should be 32kHz) and the shape of x1, which will tell you the length and number of channels."
   ]
  },
  {
   "cell_type": "code",
   "execution_count": 6,
   "metadata": {},
   "outputs": [
    {
     "name": "stdout",
     "output_type": "stream",
     "text": [
      "Train whistle has : sampling rate 32000 , Shape of x1 (50313,)\n"
     ]
    }
   ],
   "source": [
    "fs1, x1 = wav.read(\"train32.wav\")\n",
    "print('Train whistle has : sampling rate', fs1,', Shape of x1', x1.shape)"
   ]
  },
  {
   "cell_type": "markdown",
   "metadata": {},
   "source": [
    "B. Write out two new versions of the file in wav format using different sampling rates: fs2=fs1/2 (16 kHz) and fs3=1.5*fs1. Note that the wav.write function requires the sampling frequency to be an integer. Also, the simpleaudio package is limited in the sampling frequencies that it will support, so you cannot use arbitrary frequencies."
   ]
  },
  {
   "cell_type": "code",
   "execution_count": 10,
   "metadata": {},
   "outputs": [],
   "source": [
    "# print(\"Original data range:\", np.min(x1), np.max(x1))\n",
    "file = \"train32.wav\"\n",
    "fs2 = int(fs1 / 2)\n",
    "fs3 = int(1.5 * fs1)\n",
    "wav.write(file,fs2,x1.astype('int16'))\n",
    "wav.write(file,fs3,x1.astype('int16'))"
   ]
  },
  {
   "cell_type": "code",
   "execution_count": null,
   "metadata": {},
   "outputs": [],
   "source": [
    "sample_rates_to_try = [fs1, fs2, fs3]\n",
    "\n",
    "for fs in sample_rates_to_try:\n",
    "    try:\n",
    "        wave_obj = sa.WaveObject.from_wave_file(file)\n",
    "        play_obj = wave_obj.play()\n",
    "        play_obj.wait_done()\n",
    "        print(f\"Sampling frequency {fs} is supported.\")\n",
    "    except Exception as e:\n",
    "        print(f\"Sampling frequency {fs} is not supported. Error: {e}\")"
   ]
  },
  {
   "cell_type": "markdown",
   "metadata": {},
   "source": [
    "C. Using the simpleaudio package (see Background document), read in the three different versions of the train sound file and play each one."
   ]
  },
  {
   "cell_type": "code",
   "execution_count": 12,
   "metadata": {},
   "outputs": [],
   "source": [
    "A = wave_obj = sa.WaveObject.from_wave_file(file)\n",
    "play_obj = A.play()"
   ]
  },
  {
   "cell_type": "markdown",
   "metadata": {},
   "source": [
    "Assignment 2: Amplitude Operations on Signals\n",
    "\n",
    "Again, following the guidelines in the HW 1 template, start a new cell and write a script to meet\n",
    "the following specifications. This assignment will have four parts, A-C, each of which should be\n",
    "indicated with comments.\n",
    "\n",
    "A. Create a discrete time signal s1 that is the same length as x1 and has value 1 for\n",
    "t=[0,0.5] and value 0.2 for t>0.5. You can use the command below where len1 is the\n",
    "length of x1 and n0 is the index corresponding to t=0.5\n",
    "s1 = np.concatenate((np.ones(n0),0.2*np.ones(len(x1)-n0))\n",
    "Multiply x1 with s1 to create v1. Save this signal to a wav file."
   ]
  },
  {
   "cell_type": "code",
   "execution_count": null,
   "metadata": {},
   "outputs": [],
   "source": []
  },
  {
   "cell_type": "markdown",
   "metadata": {},
   "source": [
    "B. Create a discrete-time decaying ramp signal r1, that is the same length as x1. The\n",
    "signal should have value 1 at time 0 and linearly decay to value 0. (Hint: use\n",
    "numpy.arange.) Multiply x1 with r1 to create v2. Save this signal to a wav file."
   ]
  },
  {
   "cell_type": "code",
   "execution_count": null,
   "metadata": {},
   "outputs": [],
   "source": []
  },
  {
   "cell_type": "markdown",
   "metadata": {},
   "source": [
    "C. Read in v1 and v2 using simpleaudio and play the two different modifications\n",
    "together with the original, to verify that the volume of the second whistle is reduced."
   ]
  },
  {
   "cell_type": "code",
   "execution_count": null,
   "metadata": {},
   "outputs": [],
   "source": []
  },
  {
   "cell_type": "markdown",
   "metadata": {},
   "source": [
    "Report discussion: Discuss the differences that the two modifications have on the signal. What\n",
    "would happen if you defined s1 to take value 2 for the [0,0.5] range? If you wanted a smooth but\n",
    "faster decay in amplitude, what signal might you use?"
   ]
  },
  {
   "cell_type": "markdown",
   "metadata": {},
   "source": [
    "Discussion:\n"
   ]
  },
  {
   "cell_type": "markdown",
   "metadata": {},
   "source": [
    "Assignment 3: Time Scaling Audio Signals\n",
    "\n",
    "This assignment will have four parts, A-D, each of which should be indicated with comments.\n",
    "\n",
    "A. Replicate the timescale function in the HW 1 background document, and save it in its\n",
    "own cell, as indicated in the HW 1 template."
   ]
  },
  {
   "cell_type": "code",
   "execution_count": null,
   "metadata": {},
   "outputs": [],
   "source": []
  },
  {
   "cell_type": "markdown",
   "metadata": {},
   "source": [
    "B. Use the timescale function to obtain w(t)=x1(2t) and v(t)=x1(0.5t)\n",
    "a. Create w(t) using a=2 and store the outputs of the timescale function as w and t_w.\n",
    "b. Create v(t) using a=0.5 and store the outputs of the timescale function as v and t_v.\n",
    "c. Create a time-reversed version of the signal z(t)=x1(-t) by reversing the order of\n",
    "elements in the sequence. In order to plot in parallel with other signals, use the time\n",
    "vector t_z = t_x1.\n",
    "Note: When trying to play z(t), you might get a C-contiguous error. To fix this,\n",
    "use z(t) = np.ascontiguousarray(z(t)).\n",
    "d. Save the resulting signal to a wav file.\n"
   ]
  },
  {
   "cell_type": "code",
   "execution_count": null,
   "metadata": {},
   "outputs": [],
   "source": []
  },
  {
   "cell_type": "markdown",
   "metadata": {},
   "source": [
    "C. Load a figure and plot the four signals (x1, w, v, and z) using a 4x1 subplot. Adjust the x\n",
    "and y axis limits to have the same ranges in both plots. Be sure to title the plots and HWel\n",
    "axes appropriately. For the time axis, you should plot time in msec, for which you will\n",
    "need to multiple the time array by 1000 as in the example in the Background document.\n",
    "Do not use grids on the subplots. Adjust the spacing to avoid overlap. If you have\n",
    "implemented the code correctly, the figure should look something like this"
   ]
  },
  {
   "cell_type": "code",
   "execution_count": null,
   "metadata": {},
   "outputs": [],
   "source": []
  },
  {
   "cell_type": "markdown",
   "metadata": {},
   "source": [
    "D. Read in the signals you created using simpleaudio and play them to verify that they sound\n",
    "different based on what you would expect from these transformations."
   ]
  },
  {
   "cell_type": "code",
   "execution_count": null,
   "metadata": {},
   "outputs": [],
   "source": []
  },
  {
   "cell_type": "markdown",
   "metadata": {},
   "source": [
    "Report discussion: Suppose a student runs the figure command before every call to subplot.\n",
    "When you run your script, what changes do you expect to see? How will the plots change?"
   ]
  },
  {
   "cell_type": "markdown",
   "metadata": {},
   "source": []
  },
  {
   "cell_type": "markdown",
   "metadata": {},
   "source": [
    "Assignment 4: Time Shift Operation\n",
    "\n",
    "We will now implement and test a timeshift function. This assignment will have four parts, A-D,\n",
    "each of which should be indicated with comments, following the guidelines in the HW 1\n",
    "template.\n",
    "\n",
    "A. Write a function called timeshift that takes as input: a signal x, the sampling frequency fs\n",
    "(in Hz), and a time shift t0 (in seconds). The function should implement y(t) = x(t+t0)\n",
    "and produce as output the portion of the shifted signal starting at time 0. Assume that the\n",
    "original signal has value zero outside the time window. Your function should:\n",
    "\n",
    "1. Find the integer shift n0 given t0 and fs.\n",
    "\n",
    "2. Use conditional control that tests whether the time shift is positive or negative\n",
    "\n",
    "    1. For a time delay, create y by concatenating a zero vector with the original\n",
    "signal. (The output should be longer than the original signal.)\n",
    "\n",
    "    2. For a time advance, create y by copying the portion of the starting from n0\n",
    "and then appending n0 zeroes at the end of the signal. (The output should be\n",
    "the same length as the original signal.)\n",
    "\n",
    "3. Based on the length of the final signal and the sampling frequency, create a time\n",
    "vector that corresponds to the output signal length, starting at 0.\n",
    "\n",
    "4. Return the new signal and the time vector.\n",
    "Save the function it in its own cell, as indicated in the HW 1 template.\n"
   ]
  },
  {
   "cell_type": "code",
   "execution_count": null,
   "metadata": {},
   "outputs": [],
   "source": []
  },
  {
   "cell_type": "markdown",
   "metadata": {},
   "source": [
    "B. Use the function to create x1(t+0.5) and x1(t-2). Plot the shifted signals with the\n",
    "original in a 3x1 plot: x1(t), x1(t+0.5), and x1(t-2). The x-axis should be between 0\n",
    "and 4 for all three plots. HWel axes and title the plot."
   ]
  },
  {
   "cell_type": "code",
   "execution_count": null,
   "metadata": {},
   "outputs": [],
   "source": []
  },
  {
   "cell_type": "markdown",
   "metadata": {},
   "source": [
    "C. Play all three signals. For the signal that has been advanced, you should be able to\n",
    "hear that part of the sound is missing, since we have not preserved those samples."
   ]
  },
  {
   "cell_type": "code",
   "execution_count": null,
   "metadata": {},
   "outputs": [],
   "source": []
  },
  {
   "cell_type": "markdown",
   "metadata": {},
   "source": [
    "Report discussion: There is a trivial case that you should ideally test for. If the shift is zero, then\n",
    "the output is the original signal. If the shift is an advance bigger than the original signal, then the\n",
    "output will be zero. Comment on whether your current implementation correctly handles these\n",
    "cases and whether there is a better implementation."
   ]
  },
  {
   "cell_type": "markdown",
   "metadata": {},
   "source": []
  },
  {
   "cell_type": "markdown",
   "metadata": {},
   "source": [
    "Bonus Problem: Create Your Own Sound Mash-Up\n",
    "\n",
    "Open a new cell in the HW 1 template. Download 1-2 new sounds, which could be from the\n",
    "extras provided, from some open repository or from your own collection. Keep them short. If\n",
    "you choose a sound that has 2 channels, extract audio data from only one channel.\n",
    "\n",
    "Using the code developed in the exercises above, create a new signal that makes use of your\n",
    "sounds and four signal modifications: addition, multiplication, time scaling and time shifting.\n",
    "You can also concatenate sounds, and if you want to insert a brief silence between sounds then\n",
    "just use a vector of zeroes. Remember that when you add or multiply two signals, they must be\n",
    "the same length. Also, be careful not to increase the amplitude too much, since it can result in\n",
    "clipping. For example, if you add two signals, you may want to scale the result by 0.5. Save the\n",
    "result as a wav file (no more than 20 sec in length) and upload to canvas with your notebook\n",
    "alongside with the original sounds you picked.\n"
   ]
  }
 ],
 "metadata": {
  "kernelspec": {
   "display_name": "base",
   "language": "python",
   "name": "python3"
  },
  "language_info": {
   "codemirror_mode": {
    "name": "ipython",
    "version": 3
   },
   "file_extension": ".py",
   "mimetype": "text/x-python",
   "name": "python",
   "nbconvert_exporter": "python",
   "pygments_lexer": "ipython3",
   "version": "3.8.18"
  }
 },
 "nbformat": 4,
 "nbformat_minor": 2
}
